{
  "cells": [
    {
      "cell_type": "code",
      "execution_count": null,
      "metadata": {
        "id": "CbN5R3kvFvVK"
      },
      "outputs": [],
      "source": [
        "from IPython.display import Image"
      ]
    },
    {
      "cell_type": "markdown",
      "metadata": {
        "id": "u7TKhWJ-CTkj"
      },
      "source": [
        "#**Check Whether the GPU is Available or Not**"
      ]
    },
    {
      "cell_type": "code",
      "execution_count": null,
      "metadata": {
        "id": "wcb122A1CKnF"
      },
      "outputs": [],
      "source": [
        "import torch\n",
        "torch.cuda.is_available()\n",
        "torch.__version__"
      ]
    },
    {
      "cell_type": "markdown",
      "metadata": {
        "id": "cwSkTHpjFm4N"
      },
      "source": [
        "#**Object Detection**"
      ]
    },
    {
      "cell_type": "markdown",
      "metadata": {
        "id": "C84IDdUwEypE"
      },
      "source": [
        "#**Run Object Detection on a Sample Image**"
      ]
    },
    {
      "cell_type": "markdown",
      "metadata": {},
      "source": [
        "#**IMAGE**"
      ]
    },
    {
      "cell_type": "code",
      "execution_count": null,
      "metadata": {
        "colab": {
          "base_uri": "https://localhost:8080/"
        },
        "id": "R0qIHfOGCeX6",
        "outputId": "43187647-6541-452a-c6d1-d4da75b15877"
      },
      "outputs": [],
      "source": [
        "# C:\\Users\\dasbi\\AppData\\Local\\Programs\\Python\\Python312\\Lib\\site-packages\\ultralytics\\engine\\predictor.py\n",
        "!yolo task=detect mode=predict model=yolov8n.pt source='inference/images/street.jpg'  \n"
      ]
    },
    {
      "cell_type": "code",
      "execution_count": null,
      "metadata": {},
      "outputs": [],
      "source": [
        "\n",
        "!yolo task=detect mode=predict model=yolov8n-seg.pt source='inference/images/horses.jpg'  \n"
      ]
    },
    {
      "cell_type": "markdown",
      "metadata": {},
      "source": [
        "#**VIDEO**"
      ]
    },
    {
      "cell_type": "code",
      "execution_count": null,
      "metadata": {},
      "outputs": [],
      "source": [
        "!yolo task=detect mode=predict model=yolov8n.pt source='inference/videos/road.mp4' vid_stride=8"
      ]
    },
    {
      "cell_type": "code",
      "execution_count": null,
      "metadata": {},
      "outputs": [],
      "source": [
        "!yolo task=detect mode=predict model=yolov8s.pt source=0 max_det=2"
      ]
    },
    {
      "cell_type": "markdown",
      "metadata": {},
      "source": [
        "#**WEBCAM**"
      ]
    },
    {
      "cell_type": "code",
      "execution_count": null,
      "metadata": {},
      "outputs": [],
      "source": [
        "import threading\n",
        "import cv2\n",
        "from ultralytics import YOLO\n",
        "\n",
        "\n",
        "def run_tracker_in_thread(filename, model, file_index):\n",
        "    \"\"\"\n",
        "    Runs a video file or webcam stream concurrently with the YOLOv8 model using threading.\n",
        "\n",
        "    This function captures video frames from a given file or camera source and utilizes the YOLOv8 model for object\n",
        "    tracking. The function runs in its own thread for concurrent processing.\n",
        "\n",
        "    Args:\n",
        "        filename (str): The path to the video file or the identifier for the webcam/external camera source.\n",
        "        model (obj): The YOLOv8 model object.\n",
        "        file_index (int): An index to uniquely identify the file being processed, used for display purposes.\n",
        "\n",
        "    Note:\n",
        "        Press 'q' to quit the video display window.\n",
        "    \"\"\"\n",
        "    video = cv2.VideoCapture(filename)  # Read the video file\n",
        "    address=\"http://192.168.29.203:8080/video\"\n",
        "    video.open(address)\n",
        "\n",
        "    while True:\n",
        "        ret, frame = video.read()  # Read the video frames\n",
        "\n",
        "        # Exit the loop if no more frames in either video\n",
        "        if not ret:\n",
        "            break\n",
        "\n",
        "        # Track objects in frames if available\n",
        "        results = model.track(frame, max_det=5, persist=True,conf=0.5)\n",
        "        # res_plotted = results[0].plot()\n",
        "        cv2.imshow(f\"Tracking_Stream_{file_index}\")\n",
        "\n",
        "        key = cv2.waitKey(1)\n",
        "        if key == ord('q'):\n",
        "            break\n",
        "\n",
        "    # Release video sources\n",
        "    video.release()\n",
        "\n",
        "\n",
        "# Load the models\n",
        "\n",
        "model2 = YOLO('yolov8n.pt')\n",
        "\n",
        "# Define the video files for the trackers\n",
        "video_file1 = 0  # Path to video file, 0 for webcam\n",
        "\n",
        "tracker_thread2 = threading.Thread(target=run_tracker_in_thread, args=(video_file1, model2, 2), daemon=True)\n",
        "\n",
        "# Start the tracker threads\n",
        "\n",
        "tracker_thread2.start()\n",
        "\n",
        "# Wait for the tracker threads to finish\n",
        "\n",
        "tracker_thread2.join()\n",
        "\n",
        "# Clean up and close windows\n",
        "cv2.destroyAllWindows()"
      ]
    },
    {
      "cell_type": "markdown",
      "metadata": {},
      "source": [
        "#**CUSTOM DETECTION:  Potholes**"
      ]
    },
    {
      "cell_type": "code",
      "execution_count": null,
      "metadata": {},
      "outputs": [],
      "source": [
        "!pip install roboflow\n",
        "\n",
        "from roboflow import Roboflow\n",
        "rf = Roboflow(api_key=\"HXpTimcXMWuoqpZ339v6\")\n",
        "project = rf.workspace(\"pothole-ipd\").project(\"pothole-segmentation-rle1t\")\n",
        "version = project.version(1)\n",
        "dataset = version.download(\"yolov8\")\n"
      ]
    },
    {
      "cell_type": "code",
      "execution_count": null,
      "metadata": {},
      "outputs": [],
      "source": [
        "from ultralytics import YOLO\n",
        "\n",
        "# Load a model\n",
        "model = YOLO(\"yolov8n.yaml\")  # build a new model from YAML\n",
        "model = YOLO(\"yolov8n.pt\")  # load a pretrained model (recommended for training)\n",
        "model = YOLO(\"yolov8n.yaml\").load(\"yolov8n.pt\")  # build from YAML and transfer weights\n",
        "\n",
        "# Train the model\n",
        "results = model.train(data=\"C:\\Personal Docs\\Coding\\AVVI\\Pothole-Segmentation\\data.yaml\", epochs=80, imgsz=640)"
      ]
    },
    {
      "cell_type": "code",
      "execution_count": null,
      "metadata": {},
      "outputs": [],
      "source": [
        "!yolo task=detect mode=predict model=best.pt conf=0.6 source='inference/videos/pothole2.mp4'\n"
      ]
    },
    {
      "cell_type": "code",
      "execution_count": null,
      "metadata": {},
      "outputs": [],
      "source": [
        "!yolo task=detect mode=predict model=yolov8s.pt source='runs/detect/predict10/potholes.jpg'"
      ]
    },
    {
      "cell_type": "markdown",
      "metadata": {},
      "source": [
        "#Integrating custom dataset\n"
      ]
    },
    {
      "cell_type": "code",
      "execution_count": null,
      "metadata": {},
      "outputs": [],
      "source": [
        "\n",
        "\n",
        "from roboflow import Roboflow\n",
        "rf = Roboflow(api_key=\"HXpTimcXMWuoqpZ339v6\")\n",
        "project = rf.workspace(\"bushrattu\").project(\"face-mask-wearing-detection\")\n",
        "version = project.version(4)\n",
        "dataset = version.download(\"yolov8\")\n"
      ]
    },
    {
      "cell_type": "code",
      "execution_count": null,
      "metadata": {},
      "outputs": [],
      "source": [
        "from ultralytics import YOLO\n",
        "\n",
        "# Load a model\n",
        "model = YOLO(\"yolov8n.yaml\")  # build a new model from YAML\n",
        "model = YOLO(\"yolov8n.pt\")  # load a pretrained model (recommended for training)\n",
        "model = YOLO(\"yolov8n.yaml\").load(\"yolov8n.pt\")  # build from YAML and transfer weights\n",
        "\n",
        "# Train the model\n",
        "results = model.train(data=\"C:\\Personal Docs\\Coding\\AVVI\\Face-Mask-wearing-detection-4\\data.yaml\", epochs=80, imgsz=640)"
      ]
    },
    {
      "cell_type": "code",
      "execution_count": null,
      "metadata": {},
      "outputs": [],
      "source": [
        "!yolo task=detect mode=predict model='mask.pt' source='inference\\\\videos\\\\road.mp4'"
      ]
    }
  ],
  "metadata": {
    "accelerator": "GPU",
    "colab": {
      "provenance": []
    },
    "gpuClass": "standard",
    "kernelspec": {
      "display_name": "Python 3",
      "name": "python3"
    },
    "language_info": {
      "codemirror_mode": {
        "name": "ipython",
        "version": 3
      },
      "file_extension": ".py",
      "mimetype": "text/x-python",
      "name": "python",
      "nbconvert_exporter": "python",
      "pygments_lexer": "ipython3",
      "version": "3.12.0"
    },
    "widgets": {
      "application/vnd.jupyter.widget-state+json": {
        "2cb109b4e75e4cb8a2a153a19d92215c": {
          "model_module": "@jupyter-widgets/controls",
          "model_module_version": "1.5.0",
          "model_name": "FloatProgressModel",
          "state": {
            "_dom_classes": [],
            "_model_module": "@jupyter-widgets/controls",
            "_model_module_version": "1.5.0",
            "_model_name": "FloatProgressModel",
            "_view_count": null,
            "_view_module": "@jupyter-widgets/controls",
            "_view_module_version": "1.5.0",
            "_view_name": "ProgressView",
            "bar_style": "success",
            "description": "",
            "description_tooltip": null,
            "layout": "IPY_MODEL_3f5c4b27178149a68277f7273a8a5ce5",
            "max": 52117635,
            "min": 0,
            "orientation": "horizontal",
            "style": "IPY_MODEL_47bca6cc52144364a9d7e4d0c80e9ffb",
            "value": 52117635
          }
        },
        "2fe420d9702a42a9b91e25311a4c39e0": {
          "model_module": "@jupyter-widgets/base",
          "model_module_version": "1.2.0",
          "model_name": "LayoutModel",
          "state": {
            "_model_module": "@jupyter-widgets/base",
            "_model_module_version": "1.2.0",
            "_model_name": "LayoutModel",
            "_view_count": null,
            "_view_module": "@jupyter-widgets/base",
            "_view_module_version": "1.2.0",
            "_view_name": "LayoutView",
            "align_content": null,
            "align_items": null,
            "align_self": null,
            "border": null,
            "bottom": null,
            "display": null,
            "flex": null,
            "flex_flow": null,
            "grid_area": null,
            "grid_auto_columns": null,
            "grid_auto_flow": null,
            "grid_auto_rows": null,
            "grid_column": null,
            "grid_gap": null,
            "grid_row": null,
            "grid_template_areas": null,
            "grid_template_columns": null,
            "grid_template_rows": null,
            "height": null,
            "justify_content": null,
            "justify_items": null,
            "left": null,
            "margin": null,
            "max_height": null,
            "max_width": null,
            "min_height": null,
            "min_width": null,
            "object_fit": null,
            "object_position": null,
            "order": null,
            "overflow": null,
            "overflow_x": null,
            "overflow_y": null,
            "padding": null,
            "right": null,
            "top": null,
            "visibility": null,
            "width": null
          }
        },
        "3f5c4b27178149a68277f7273a8a5ce5": {
          "model_module": "@jupyter-widgets/base",
          "model_module_version": "1.2.0",
          "model_name": "LayoutModel",
          "state": {
            "_model_module": "@jupyter-widgets/base",
            "_model_module_version": "1.2.0",
            "_model_name": "LayoutModel",
            "_view_count": null,
            "_view_module": "@jupyter-widgets/base",
            "_view_module_version": "1.2.0",
            "_view_name": "LayoutView",
            "align_content": null,
            "align_items": null,
            "align_self": null,
            "border": null,
            "bottom": null,
            "display": null,
            "flex": null,
            "flex_flow": null,
            "grid_area": null,
            "grid_auto_columns": null,
            "grid_auto_flow": null,
            "grid_auto_rows": null,
            "grid_column": null,
            "grid_gap": null,
            "grid_row": null,
            "grid_template_areas": null,
            "grid_template_columns": null,
            "grid_template_rows": null,
            "height": null,
            "justify_content": null,
            "justify_items": null,
            "left": null,
            "margin": null,
            "max_height": null,
            "max_width": null,
            "min_height": null,
            "min_width": null,
            "object_fit": null,
            "object_position": null,
            "order": null,
            "overflow": null,
            "overflow_x": null,
            "overflow_y": null,
            "padding": null,
            "right": null,
            "top": null,
            "visibility": null,
            "width": null
          }
        },
        "47bca6cc52144364a9d7e4d0c80e9ffb": {
          "model_module": "@jupyter-widgets/controls",
          "model_module_version": "1.5.0",
          "model_name": "ProgressStyleModel",
          "state": {
            "_model_module": "@jupyter-widgets/controls",
            "_model_module_version": "1.5.0",
            "_model_name": "ProgressStyleModel",
            "_view_count": null,
            "_view_module": "@jupyter-widgets/base",
            "_view_module_version": "1.2.0",
            "_view_name": "StyleView",
            "bar_color": null,
            "description_width": ""
          }
        },
        "7295ee66bc034b11ae96f79781a6bb9f": {
          "model_module": "@jupyter-widgets/base",
          "model_module_version": "1.2.0",
          "model_name": "LayoutModel",
          "state": {
            "_model_module": "@jupyter-widgets/base",
            "_model_module_version": "1.2.0",
            "_model_name": "LayoutModel",
            "_view_count": null,
            "_view_module": "@jupyter-widgets/base",
            "_view_module_version": "1.2.0",
            "_view_name": "LayoutView",
            "align_content": null,
            "align_items": null,
            "align_self": null,
            "border": null,
            "bottom": null,
            "display": null,
            "flex": null,
            "flex_flow": null,
            "grid_area": null,
            "grid_auto_columns": null,
            "grid_auto_flow": null,
            "grid_auto_rows": null,
            "grid_column": null,
            "grid_gap": null,
            "grid_row": null,
            "grid_template_areas": null,
            "grid_template_columns": null,
            "grid_template_rows": null,
            "height": null,
            "justify_content": null,
            "justify_items": null,
            "left": null,
            "margin": null,
            "max_height": null,
            "max_width": null,
            "min_height": null,
            "min_width": null,
            "object_fit": null,
            "object_position": null,
            "order": null,
            "overflow": null,
            "overflow_x": null,
            "overflow_y": null,
            "padding": null,
            "right": null,
            "top": null,
            "visibility": null,
            "width": null
          }
        },
        "948c97f62d9845b1aafe84a9783b2c5c": {
          "model_module": "@jupyter-widgets/controls",
          "model_module_version": "1.5.0",
          "model_name": "HTMLModel",
          "state": {
            "_dom_classes": [],
            "_model_module": "@jupyter-widgets/controls",
            "_model_module_version": "1.5.0",
            "_model_name": "HTMLModel",
            "_view_count": null,
            "_view_module": "@jupyter-widgets/controls",
            "_view_module_version": "1.5.0",
            "_view_name": "HTMLView",
            "description": "",
            "description_tooltip": null,
            "layout": "IPY_MODEL_2fe420d9702a42a9b91e25311a4c39e0",
            "placeholder": "​",
            "style": "IPY_MODEL_957c0d1bbfa8477bbbd37e37e68be331",
            "value": " 49.7M/49.7M [00:03&lt;00:00, 12.4MB/s]"
          }
        },
        "957c0d1bbfa8477bbbd37e37e68be331": {
          "model_module": "@jupyter-widgets/controls",
          "model_module_version": "1.5.0",
          "model_name": "DescriptionStyleModel",
          "state": {
            "_model_module": "@jupyter-widgets/controls",
            "_model_module_version": "1.5.0",
            "_model_name": "DescriptionStyleModel",
            "_view_count": null,
            "_view_module": "@jupyter-widgets/base",
            "_view_module_version": "1.2.0",
            "_view_name": "StyleView",
            "description_width": ""
          }
        },
        "afa5472677984c72b4a5894a3293ddae": {
          "model_module": "@jupyter-widgets/controls",
          "model_module_version": "1.5.0",
          "model_name": "DescriptionStyleModel",
          "state": {
            "_model_module": "@jupyter-widgets/controls",
            "_model_module_version": "1.5.0",
            "_model_name": "DescriptionStyleModel",
            "_view_count": null,
            "_view_module": "@jupyter-widgets/base",
            "_view_module_version": "1.2.0",
            "_view_name": "StyleView",
            "description_width": ""
          }
        },
        "bf832e9915204a7ba33b269353bbb3aa": {
          "model_module": "@jupyter-widgets/controls",
          "model_module_version": "1.5.0",
          "model_name": "HTMLModel",
          "state": {
            "_dom_classes": [],
            "_model_module": "@jupyter-widgets/controls",
            "_model_module_version": "1.5.0",
            "_model_name": "HTMLModel",
            "_view_count": null,
            "_view_module": "@jupyter-widgets/controls",
            "_view_module_version": "1.5.0",
            "_view_name": "HTMLView",
            "description": "",
            "description_tooltip": null,
            "layout": "IPY_MODEL_7295ee66bc034b11ae96f79781a6bb9f",
            "placeholder": "​",
            "style": "IPY_MODEL_afa5472677984c72b4a5894a3293ddae",
            "value": "100%"
          }
        },
        "c376f75e8b2046ac9dc09abc249db9a4": {
          "model_module": "@jupyter-widgets/controls",
          "model_module_version": "1.5.0",
          "model_name": "HBoxModel",
          "state": {
            "_dom_classes": [],
            "_model_module": "@jupyter-widgets/controls",
            "_model_module_version": "1.5.0",
            "_model_name": "HBoxModel",
            "_view_count": null,
            "_view_module": "@jupyter-widgets/controls",
            "_view_module_version": "1.5.0",
            "_view_name": "HBoxView",
            "box_style": "",
            "children": [
              "IPY_MODEL_bf832e9915204a7ba33b269353bbb3aa",
              "IPY_MODEL_2cb109b4e75e4cb8a2a153a19d92215c",
              "IPY_MODEL_948c97f62d9845b1aafe84a9783b2c5c"
            ],
            "layout": "IPY_MODEL_db6a3dc9eef8416895af2ed09040e6da"
          }
        },
        "db6a3dc9eef8416895af2ed09040e6da": {
          "model_module": "@jupyter-widgets/base",
          "model_module_version": "1.2.0",
          "model_name": "LayoutModel",
          "state": {
            "_model_module": "@jupyter-widgets/base",
            "_model_module_version": "1.2.0",
            "_model_name": "LayoutModel",
            "_view_count": null,
            "_view_module": "@jupyter-widgets/base",
            "_view_module_version": "1.2.0",
            "_view_name": "LayoutView",
            "align_content": null,
            "align_items": null,
            "align_self": null,
            "border": null,
            "bottom": null,
            "display": null,
            "flex": null,
            "flex_flow": null,
            "grid_area": null,
            "grid_auto_columns": null,
            "grid_auto_flow": null,
            "grid_auto_rows": null,
            "grid_column": null,
            "grid_gap": null,
            "grid_row": null,
            "grid_template_areas": null,
            "grid_template_columns": null,
            "grid_template_rows": null,
            "height": null,
            "justify_content": null,
            "justify_items": null,
            "left": null,
            "margin": null,
            "max_height": null,
            "max_width": null,
            "min_height": null,
            "min_width": null,
            "object_fit": null,
            "object_position": null,
            "order": null,
            "overflow": null,
            "overflow_x": null,
            "overflow_y": null,
            "padding": null,
            "right": null,
            "top": null,
            "visibility": null,
            "width": null
          }
        }
      }
    }
  },
  "nbformat": 4,
  "nbformat_minor": 0
}
